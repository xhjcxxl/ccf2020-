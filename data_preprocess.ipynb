{
 "cells": [
  {
   "cell_type": "code",
   "execution_count": 9,
   "metadata": {},
   "outputs": [],
   "source": [
    "import numpy as np\n",
    "import pandas as pd\n",
    "import json\n",
    "import codecs\n",
    "label_data_path = 'dataset/labeled_data.csv'\n",
    "unlabel_data_path = 'dataset/unlabeled_data.csv'"
   ]
  },
  {
   "cell_type": "code",
   "execution_count": 3,
   "metadata": {},
   "outputs": [
    {
     "name": "stdout",
     "output_type": "stream",
     "text": [
      "   id class_label                                            content\n",
      "0   0          教育  人民网北京8月31日电（孙竞）日前，为进一步规范高等学校命名工作，依据相关法律法规规定，结合...\n",
      "1   1          家居  又是一年落叶黄，一阵秋雨一阵凉；整日奔波工作忙，出门别忘添衣裳。金秋时节，正值装修旺季，集美...\n",
      "2   2          教育  作者：祝安顺（深圳大学饶宗颐文化研究院编审、副教授）　　越来越多的名校毕业生入职教师行业，吸...\n",
      "3   3          时尚  虽然此前其有过与品牌如Madawell的合作系列，但这回她确认将推出自己名下的服装系列。在最...\n",
      "4   4          教育  眼下，虽然疫情依然严峻，但我国大中小学都已陆续开学，疫情防控进入常态化，学生校园生活回归正常...\n",
      "(7000, 3)\n"
     ]
    }
   ],
   "source": [
    "label_data = pd.read_csv(label_data_path, encoding='utf-8')\n",
    "print(label_data.head())\n",
    "print(label_data.shape)"
   ]
  },
  {
   "cell_type": "code",
   "execution_count": 4,
   "metadata": {},
   "outputs": [
    {
     "data": {
      "text/plain": [
       "class_label\n",
       "家居    0.460\n",
       "房产    0.116\n",
       "教育    0.761\n",
       "时尚    0.388\n",
       "时政    0.003\n",
       "科技    0.110\n",
       "财经    0.051\n",
       "Name: in_list, dtype: float64"
      ]
     },
     "execution_count": 4,
     "metadata": {},
     "output_type": "execute_result"
    }
   ],
   "source": [
    "in_list = []\n",
    "for i in range(label_data.shape[0]):\n",
    "    if label_data['class_label'][i] in label_data['content'][i]:\n",
    "        in_list.append(1)\n",
    "    else:\n",
    "        in_list.append(0)\n",
    "label_data['in_list'] = in_list\n",
    "label_data.groupby(['class_label'])['in_list'].sum()/1000"
   ]
  },
  {
   "cell_type": "code",
   "execution_count": 7,
   "metadata": {},
   "outputs": [
    {
     "name": "stdout",
     "output_type": "stream",
     "text": [
      "{'娱乐': ['娱乐', '电影', '影视', '奥斯卡', '导演'], '科技': ['科技', '数码', '手机', '相机', '像素'], '时尚': ['时尚', '时髦', '潮流', '穿搭', '性感'], '时政': ['时政', '外交', '政治', '时事', '草案'], '家居': ['家居', '家具', '建材', '厨卫', '涂料'], '房产': ['房产', '房价', '房贷', '物业', '楼市'], '游戏': ['游戏', '玩家', '网游', '手游', '技能'], '体育': ['体育', '比赛', 'NBA', '体育讯', '得分'], '财经': ['财经', '基金', '投资', '股票', '分红'], '教育': ['教育', '考试', '学生', '英语', '四六级']}\n"
     ]
    }
   ],
   "source": [
    "# 构建种子文件\n",
    "label_seeds = {}\n",
    "label_seeds['娱乐'] = ['娱乐','电影','影视','奥斯卡','导演']\n",
    "label_seeds['科技'] = ['科技','数码','手机','相机','像素']\n",
    "label_seeds['时尚'] = ['时尚','时髦','潮流','穿搭','性感']\n",
    "label_seeds['时政'] = ['时政','外交','政治','时事','草案']\n",
    "label_seeds['家居'] = ['家居','家具','建材','厨卫','涂料']\n",
    "label_seeds['房产'] = ['房产','房价','房贷','物业','楼市']\n",
    "label_seeds['游戏'] = ['游戏','玩家','网游','手游','技能']\n",
    "label_seeds['体育'] = ['体育','比赛','NBA','体育讯','得分']\n",
    "label_seeds['财经'] = ['财经','基金','投资','股票','分红']\n",
    "label_seeds['教育'] = ['教育','考试','学生','英语','四六级']\n",
    "with codecs.open('label_seeds.json', 'w', encoding='utf-8') as f:\n",
    "    json.dump(label_seeds, f, indent=4, ensure_ascii=False)\n",
    "print(label_seeds)"
   ]
  },
  {
   "cell_type": "code",
   "execution_count": null,
   "metadata": {},
   "outputs": [],
   "source": []
  }
 ],
 "metadata": {
  "kernelspec": {
   "display_name": "Python 3",
   "language": "python",
   "name": "python3"
  },
  "language_info": {
   "codemirror_mode": {
    "name": "ipython",
    "version": 3
   },
   "file_extension": ".py",
   "mimetype": "text/x-python",
   "name": "python",
   "nbconvert_exporter": "python",
   "pygments_lexer": "ipython3",
   "version": "3.6.10"
  }
 },
 "nbformat": 4,
 "nbformat_minor": 4
}
